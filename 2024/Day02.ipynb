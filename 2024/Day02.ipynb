{
 "cells": [
  {
   "cell_type": "code",
   "execution_count": null,
   "metadata": {},
   "outputs": [],
   "source": [
    "with open(\"data/day02.txt\") as f:\n",
    "    data = f.read().splitlines()\n",
    "\n",
    "data = [list(map(int, line.split())) for line in data]\n",
    "\n",
    "test_data = [\n",
    "    [7, 6, 4, 2, 1],\n",
    "    [1, 2, 7, 8, 9],\n",
    "    [9, 7, 6, 2, 1],\n",
    "    [1, 3, 2, 4, 5],\n",
    "    [8, 6, 4, 4, 1],\n",
    "    [1, 3, 6, 7, 9],\n",
    "]"
   ]
  },
  {
   "cell_type": "code",
   "execution_count": null,
   "metadata": {},
   "outputs": [
    {
     "data": {
      "text/plain": [
       "442"
      ]
     },
     "execution_count": 19,
     "metadata": {},
     "output_type": "execute_result"
    }
   ],
   "source": [
    "def is_report_valid(report: list[int]) -> bool:\n",
    "    for i, (n1, n2) in enumerate(zip(report, report[1:])):\n",
    "        if n1 == n2:\n",
    "            return False\n",
    "\n",
    "        if i == 0:\n",
    "            ascending = n2 > n1\n",
    "\n",
    "        diff = n2 - n1 if ascending else n1 - n2\n",
    "        if not (1 <= diff <= 3):\n",
    "            return False\n",
    "\n",
    "    return True\n",
    "\n",
    "\n",
    "safe_reports = sum([is_report_valid(report) for report in data])\n",
    "safe_reports\n"
   ]
  },
  {
   "cell_type": "code",
   "execution_count": 20,
   "metadata": {},
   "outputs": [
    {
     "data": {
      "text/plain": [
       "493"
      ]
     },
     "execution_count": 20,
     "metadata": {},
     "output_type": "execute_result"
    }
   ],
   "source": [
    "safe_reports_2 = 0\n",
    "\n",
    "for report in data:\n",
    "    if is_report_valid(report):\n",
    "        safe_reports_2 += 1\n",
    "        continue\n",
    "    else:\n",
    "        safe_reports_2 += any(\n",
    "            is_report_valid(report[:i] + report[i + 1 :]) for i in range(len(report))\n",
    "        )\n",
    "\n",
    "safe_reports_2\n"
   ]
  },
  {
   "cell_type": "code",
   "execution_count": null,
   "metadata": {},
   "outputs": [],
   "source": []
  }
 ],
 "metadata": {
  "kernelspec": {
   "display_name": ".venv",
   "language": "python",
   "name": "python3"
  },
  "language_info": {
   "codemirror_mode": {
    "name": "ipython",
    "version": 3
   },
   "file_extension": ".py",
   "mimetype": "text/x-python",
   "name": "python",
   "nbconvert_exporter": "python",
   "pygments_lexer": "ipython3",
   "version": "3.12.7"
  }
 },
 "nbformat": 4,
 "nbformat_minor": 2
}
