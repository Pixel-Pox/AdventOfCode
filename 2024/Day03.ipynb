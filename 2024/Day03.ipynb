{
 "cells": [
  {
   "cell_type": "code",
   "execution_count": 2,
   "metadata": {},
   "outputs": [],
   "source": [
    "import re\n",
    "\n",
    "with open(\"data/day03.txt\") as f:\n",
    "    data = f.read().splitlines()\n",
    "\n",
    "test_line = \"xmul(2,4)%&mul[3,7]!@^do_not_mul(5,5)+mul(32,64]then(mul(11,8)mul(8,5))\""
   ]
  },
  {
   "cell_type": "code",
   "execution_count": 3,
   "metadata": {},
   "outputs": [],
   "source": [
    "def get_line_sum(line: str) -> int: \n",
    "    regex_pattern = r\"mul\\((\\d+),(\\d+)\\)\"\n",
    "    return sum(map(lambda x: int(x[0]) * int(x[1]), re.findall(regex_pattern, line)))"
   ]
  },
  {
   "cell_type": "code",
   "execution_count": 4,
   "metadata": {},
   "outputs": [
    {
     "data": {
      "text/plain": [
       "161"
      ]
     },
     "execution_count": 4,
     "metadata": {},
     "output_type": "execute_result"
    }
   ],
   "source": [
    "get_line_sum(test_line)"
   ]
  },
  {
   "cell_type": "code",
   "execution_count": 5,
   "metadata": {},
   "outputs": [
    {
     "data": {
      "text/plain": [
       "173731097"
      ]
     },
     "execution_count": 5,
     "metadata": {},
     "output_type": "execute_result"
    }
   ],
   "source": [
    "sum(map(get_line_sum, data))"
   ]
  },
  {
   "cell_type": "code",
   "execution_count": null,
   "metadata": {},
   "outputs": [
    {
     "name": "stdout",
     "output_type": "stream",
     "text": [
      "48\n",
      "93729253\n"
     ]
    }
   ],
   "source": [
    "from dataclasses import dataclass\n",
    "\n",
    "@dataclass\n",
    "class Instruction: \n",
    "    index_position_start: int\n",
    "    index_position_end: int\n",
    "    instruction: str\n",
    "\n",
    "def get_instruction_matches(line: str) -> list[Instruction]:\n",
    "    multiplication_match = r\"mul\\((\\d+),(\\d+)\\)\"\n",
    "    do_match = r\"do\\(\\)\"\n",
    "    dont_match = r\"don\\'t\\(\\)\"\n",
    "\n",
    "    instructions = []\n",
    "    for match in re.finditer(multiplication_match, line):\n",
    "        instructions.append(Instruction(match.start(), match.end(), match.group(0)))\n",
    "\n",
    "    for match in re.finditer(do_match, line):\n",
    "        instructions.append(Instruction(match.start(), match.end(), match.group(0)))\n",
    "\n",
    "    for match in re.finditer(dont_match, line):\n",
    "        instructions.append(Instruction(match.start(), match.end(), match.group(0)))\n",
    "                            \n",
    "    instructions.sort(key=lambda x: x.index_position_start)\n",
    "    return instructions\n",
    "\n",
    "def get_line_sum_2(instructions: list[Instruction]) -> int: \n",
    "    line_sum = 0\n",
    "    mul_enabled_flag = True\n",
    "    for ins in instructions: \n",
    "        if ins.instruction == \"don't()\": \n",
    "            mul_enabled_flag = False\n",
    "        elif ins.instruction == \"do()\":\n",
    "            mul_enabled_flag = True\n",
    "        elif ins.instruction.startswith(\"mul\") and mul_enabled_flag:\n",
    "            numbers = re.findall(r\"\\d+\", ins.instruction)\n",
    "            line_sum += int(numbers[0]) * int(numbers[1])\n",
    "        \n",
    "    return line_sum\n",
    "\n",
    "\n",
    "test_line_2 = \"xmul(2,4)&mul[3,7]!^don't()_mul(5,5)+mul(32,64](mul(11,8)undo()?mul(8,5))\"\n",
    "\n",
    "instructions = get_instruction_matches(test_line_2)\n",
    "print(get_line_sum_2(instructions))\n",
    "\n",
    "# data to single line\n",
    "data_line = \"\".join(data) # ... \n",
    "\n",
    "instructions = get_instruction_matches(data_line)\n",
    "print(get_line_sum_2(instructions))\n",
    "    "
   ]
  }
 ],
 "metadata": {
  "kernelspec": {
   "display_name": ".venv",
   "language": "python",
   "name": "python3"
  },
  "language_info": {
   "codemirror_mode": {
    "name": "ipython",
    "version": 3
   },
   "file_extension": ".py",
   "mimetype": "text/x-python",
   "name": "python",
   "nbconvert_exporter": "python",
   "pygments_lexer": "ipython3",
   "version": "3.12.7"
  }
 },
 "nbformat": 4,
 "nbformat_minor": 2
}
