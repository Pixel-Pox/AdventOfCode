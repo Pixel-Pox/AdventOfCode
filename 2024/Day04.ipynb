{
 "cells": [
  {
   "cell_type": "code",
   "execution_count": 22,
   "metadata": {},
   "outputs": [],
   "source": [
    "with open(\"data/day04.txt\") as f:\n",
    "    data = f.read().splitlines()\n",
    "\n",
    "test_data = [\n",
    "    \"MMMSXXMASM\",\n",
    "    \"MSAMXMSMSA\",\n",
    "    \"AMXSXMAAMM\",\n",
    "    \"MSAMASMSMX\",\n",
    "    \"XMASAMXAMM\",\n",
    "    \"XXAMMXXAMA\",\n",
    "    \"SMSMSASXSS\",\n",
    "    \"SAXAMASAAA\",\n",
    "    \"MAMMMXMMMM\",\n",
    "    \"MXMXAXMASX\",\n",
    "]\n",
    "\n",
    "test_data = [list(s) for s in test_data]\n",
    "data = [list(s) for s in data]\n"
   ]
  },
  {
   "cell_type": "code",
   "execution_count": null,
   "metadata": {},
   "outputs": [
    {
     "name": "stdout",
     "output_type": "stream",
     "text": [
      "2427\n",
      "1900\n"
     ]
    }
   ],
   "source": [
    "import numpy as np\n",
    "\n",
    "\n",
    "def count_xmas(data: list[list[str]]) -> int:\n",
    "    count = 0\n",
    "    for row in data:\n",
    "        line = \"\".join(row)\n",
    "        count += line.count(\"XMAS\")\n",
    "        count += line.count(\"SAMX\")\n",
    "\n",
    "    for col in range(len(data[0])):\n",
    "        line = \"\".join([row[col] for row in data])\n",
    "        count += line.count(\"XMAS\")\n",
    "        count += line.count(\"SAMX\")\n",
    "\n",
    "    for i in range(-len(data) + 1, len(data[0])):\n",
    "        line = \"\".join(data.diagonal(i))\n",
    "        count += line.count(\"XMAS\")\n",
    "        count += line.count(\"SAMX\")\n",
    "\n",
    "        line = \"\".join(np.fliplr(data).diagonal(i))\n",
    "        count += line.count(\"XMAS\")\n",
    "        count += line.count(\"SAMX\")\n",
    "\n",
    "    return count\n",
    "\n",
    "\n",
    "def check_pattern(data: list[str], i: int, j: int, pattern: tuple) -> bool:\n",
    "    \"\"\"Check if a 3x3 grid matches the given pattern\"\"\"\n",
    "    positions = [(0,0), (0,2), (1,1), (2,0), (2,2)]\n",
    "    return all(data[i+x][j+y] == letter \n",
    "              for (x,y), letter in zip(positions, pattern))\n",
    "\n",
    "def count_mas(data: list[str]) -> int:\n",
    "    # All valid MASS patterns\n",
    "    patterns = [\n",
    "        ('M', 'M', 'A', 'S', 'S'),\n",
    "        ('S', 'S', 'A', 'M', 'M'),\n",
    "        ('S', 'M', 'A', 'S', 'M'),\n",
    "        ('M', 'S', 'A', 'M', 'S')\n",
    "    ]\n",
    "    \n",
    "    count = 0\n",
    "    for i in range(len(data) - 2):\n",
    "        for j in range(len(data[0]) - 2):\n",
    "            if any(check_pattern(data, i, j, pattern) for pattern in patterns):\n",
    "                count += 1\n",
    "    \n",
    "    return count\n",
    "\n",
    "\n",
    "print(count_xmas(np.array(data)))\n",
    "print(count_mas(np.array(data)))\n"
   ]
  },
  {
   "cell_type": "code",
   "execution_count": null,
   "metadata": {},
   "outputs": [],
   "source": []
  }
 ],
 "metadata": {
  "kernelspec": {
   "display_name": ".venv",
   "language": "python",
   "name": "python3"
  },
  "language_info": {
   "codemirror_mode": {
    "name": "ipython",
    "version": 3
   },
   "file_extension": ".py",
   "mimetype": "text/x-python",
   "name": "python",
   "nbconvert_exporter": "python",
   "pygments_lexer": "ipython3",
   "version": "3.12.7"
  }
 },
 "nbformat": 4,
 "nbformat_minor": 2
}
