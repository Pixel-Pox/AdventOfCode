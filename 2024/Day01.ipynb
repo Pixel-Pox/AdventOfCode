{
 "cells": [
  {
   "cell_type": "code",
   "execution_count": 2,
   "metadata": {},
   "outputs": [],
   "source": [
    "with open(\"data/day01.txt\") as f: \n",
    "    file = f.read().split()\n",
    "\n",
    "list_1 = sorted([int(n) for n in file[0::2]])\n",
    "list_2 = sorted([int(n) for n in file[1::2]])"
   ]
  },
  {
   "cell_type": "code",
   "execution_count": 3,
   "metadata": {},
   "outputs": [
    {
     "data": {
      "text/plain": [
       "True"
      ]
     },
     "execution_count": 3,
     "metadata": {},
     "output_type": "execute_result"
    }
   ],
   "source": [
    "len(list_1) == len(list_2)"
   ]
  },
  {
   "cell_type": "code",
   "execution_count": 4,
   "metadata": {},
   "outputs": [
    {
     "name": "stdout",
     "output_type": "stream",
     "text": [
      "1151792\n"
     ]
    }
   ],
   "source": [
    "answer_1 = 0\n",
    "for n1, n2 in zip(list_1, list_2): \n",
    "    answer_1 += abs(int(n1) - int(n2))\n",
    "\n",
    "print(answer_1)\n",
    "# 1151792"
   ]
  },
  {
   "cell_type": "code",
   "execution_count": 5,
   "metadata": {},
   "outputs": [
    {
     "name": "stdout",
     "output_type": "stream",
     "text": [
      "21790168\n"
     ]
    }
   ],
   "source": [
    "call_count = 0\n",
    "counter = dict()\n",
    "for i in list_1:\n",
    "    counter[i] = list_2.count(i)\n",
    "\n",
    "answer_2 = sum([k*v for k, v in counter.items()])\n",
    "print(answer_2)\n",
    "# 21790168"
   ]
  },
  {
   "cell_type": "code",
   "execution_count": null,
   "metadata": {},
   "outputs": [],
   "source": []
  }
 ],
 "metadata": {
  "kernelspec": {
   "display_name": "hohohocode-j-7IZgbJ-py3.12",
   "language": "python",
   "name": "python3"
  },
  "language_info": {
   "codemirror_mode": {
    "name": "ipython",
    "version": 3
   },
   "file_extension": ".py",
   "mimetype": "text/x-python",
   "name": "python",
   "nbconvert_exporter": "python",
   "pygments_lexer": "ipython3",
   "version": "3.12.7"
  }
 },
 "nbformat": 4,
 "nbformat_minor": 2
}
