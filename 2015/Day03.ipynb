{
 "cells": [
  {
   "cell_type": "markdown",
   "metadata": {},
   "source": [
    "### --- Day 3: Perfectly Spherical Houses in a Vacuum ---\n",
    "Santa is delivering presents to an infinite two-dimensional grid of houses.\n",
    "\n",
    "He begins by delivering a present to the house at his starting location, and then an elf at the North Pole calls him via radio and tells him where to move next. Moves are always exactly one house to the north (`^`), south (`v`), east (`>`), or west (`<`). After each move, he delivers another present to the house at his new location.\n",
    "\n",
    "However, the elf back at the north pole has had a little too much eggnog, and so his directions are a little off, and Santa ends up visiting some houses more than once. How many houses receive at least one present?\n",
    "\n",
    "For example:\n",
    "\n",
    "- `>` delivers presents to `2` houses: one at the starting location, and one to the east.\n",
    "-` ^>v<` delivers presents to `4` houses in a square, including twice to the house at his starting/ending location.\n",
    "- `^v^v^v^v^v` delivers a bunch of presents to some very lucky children at only `2` houses."
   ]
  },
  {
   "cell_type": "code",
   "execution_count": 45,
   "metadata": {},
   "outputs": [
    {
     "name": "stdout",
     "output_type": "stream",
     "text": [
      "2565\n"
     ]
    }
   ],
   "source": [
    "COORDINATE_SYSTEM = {\n",
    "    \"^\": (0, 1),\n",
    "    \"v\": (0, -1),\n",
    "    \">\": (1, 0),\n",
    "    \"<\": (-1, 0),\n",
    "}\n",
    "\n",
    "\n",
    "def move(x: int, y: int, direction: str) -> tuple[int, int]:\n",
    "    dx, dy = COORDINATE_SYSTEM[direction]\n",
    "    return x + dx, y + dy\n",
    "\n",
    "\n",
    "def traverse_grid(instructions: str) -> set[tuple[int, int]]:\n",
    "    visited_houses = set()\n",
    "    x = 0\n",
    "    y = 0\n",
    "    for instruction in instructions:\n",
    "        x, y = move(x, y, instruction)\n",
    "        visited_houses.add((x, y))\n",
    "    return visited_houses\n",
    "\n",
    "\n",
    "with open(\"data/day03.txt\") as f:\n",
    "    instructions = f.read()\n",
    "\n",
    "# Part 1\n",
    "print(len(traverse_grid(instructions)))"
   ]
  },
  {
   "cell_type": "markdown",
   "metadata": {},
   "source": [
    "### --- Part Two ---\n",
    "The next year, to speed up the process, Santa creates a robot version of himself, Robo-Santa, to deliver presents with him.\n",
    "\n",
    "Santa and Robo-Santa start at the same location (delivering two presents to the same starting house), then take turns moving based on instructions from the elf, who is eggnoggedly reading from the same script as the previous year.\n",
    "\n",
    "This year, how many houses receive at least one present?\n",
    "\n",
    "For example:\n",
    "\n",
    "- `^v` delivers presents to `3` houses, because Santa goes north, and then Robo-Santa goes south.\n",
    "- `^>v<` now delivers presents to `3` houses, and Santa and Robo-Santa end up back where they started.\n",
    "- `^v^v^v^v^v` now delivers presents to `11` houses, with Santa going one direction and Robo-Santa going the other."
   ]
  },
  {
   "cell_type": "code",
   "execution_count": 46,
   "metadata": {},
   "outputs": [
    {
     "name": "stdout",
     "output_type": "stream",
     "text": [
      "2639\n"
     ]
    }
   ],
   "source": [
    "# Part 2\n",
    "# I can just split the instructions into two strings and traverse them separately, and then combine sets\n",
    "santa_instructions = instructions[::2]\n",
    "robot_instructions = instructions[1::2]\n",
    "\n",
    "all_houses = traverse_grid(santa_instructions) | traverse_grid(robot_instructions)\n",
    "all_houses.add((0, 0))  # add starting house\n",
    "print(len(all_houses))"
   ]
  }
 ],
 "metadata": {
  "kernelspec": {
   "display_name": ".venv",
   "language": "python",
   "name": "python3"
  },
  "language_info": {
   "codemirror_mode": {
    "name": "ipython",
    "version": 3
   },
   "file_extension": ".py",
   "mimetype": "text/x-python",
   "name": "python",
   "nbconvert_exporter": "python",
   "pygments_lexer": "ipython3",
   "version": "3.11.3"
  }
 },
 "nbformat": 4,
 "nbformat_minor": 2
}
