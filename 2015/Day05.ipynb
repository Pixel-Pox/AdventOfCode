{
 "cells": [
  {
   "cell_type": "markdown",
   "metadata": {},
   "source": [
    "### --- Day 5: Doesn't He Have Intern-Elves For This? ---\n",
    "Santa needs help figuring out which strings in his text file are naughty or nice.\n",
    "\n",
    "A nice string is one with all of the following properties:\n",
    "\n",
    "- It contains at least three vowels (`aeiou` only), like `aei`, `xazegov`, or `aeiouaeiouaeiou`.\n",
    "- It contains at least one letter that appears twice in a row, like `xx`, `abcdde` (`dd`), or `aabbccdd` (`aa`, `bb`, `cc`, or `dd`).\n",
    "- It does not contain the strings `ab`, `cd`, `pq`, or `xy`, even if they are part of one of the other requirements.\n",
    "\n",
    "For example:\n",
    "\n",
    "- `ugknbfddgicrmopn` is nice because it has at least three vowels (`u...i...o...`), a double letter (`...dd...`), and none of the - disallowed substrings.\n",
    "- `aaa` is nice because it has at least three vowels and a double letter, even though the letters used by different rules overlap.\n",
    "- `jchzalrnumimnmhp` is naughty because it has no double letter.\n",
    "- `haegwjzuvuyypxyu` is naughty because it contains the string xy.\n",
    "- `dvszwmarrgswjxmb` is naughty because it contains only one vowel.\n",
    "\n",
    "How many strings are nice?"
   ]
  },
  {
   "cell_type": "code",
   "execution_count": 9,
   "metadata": {},
   "outputs": [
    {
     "name": "stdout",
     "output_type": "stream",
     "text": [
      "Expected True: got True\n",
      "Expected False: got False\n",
      "236\n"
     ]
    }
   ],
   "source": [
    "VOWELS = \"aeiou\"\n",
    "DISALLOWED = [\"ab\", \"cd\", \"pq\", \"xy\"]\n",
    "\n",
    "test_input_nice = \"ugknbfddgicrmopn\"\n",
    "test_input_naughty = \"jchzalrnumimnmhp\"\n",
    "\n",
    "\n",
    "def contains_three_vowels(string: str) -> bool:\n",
    "    return sum([string.count(v) for v in VOWELS]) >= 3\n",
    "\n",
    "\n",
    "def contains_double_letter(string: str) -> bool:\n",
    "    for i in range(len(string) - 1):\n",
    "        if string[i] == string[i + 1]:\n",
    "            return True\n",
    "    return False\n",
    "\n",
    "\n",
    "def does_not_contain_dissallowed_strings(string: str) -> bool:\n",
    "    return any(pattern in string for pattern in DISALLOWED)\n",
    "\n",
    "\n",
    "def is_nice(string: str) -> bool:\n",
    "    return (\n",
    "        contains_three_vowels(string)\n",
    "        and contains_double_letter(string)\n",
    "        and not does_not_contain_dissallowed_strings(string)\n",
    "    )\n",
    "\n",
    "\n",
    "print(f\"Expected True: got {is_nice(test_input_nice)}\")\n",
    "print(f\"Expected False: got {is_nice(test_input_naughty)}\")\n",
    "\n",
    "# Part 1\n",
    "\n",
    "with open(\"data/day05.txt\") as f:\n",
    "    strings = f.read().splitlines()\n",
    "\n",
    "print(sum([is_nice(string.strip()) for string in strings]))"
   ]
  },
  {
   "cell_type": "markdown",
   "metadata": {},
   "source": [
    "### --- Part Two ---\n",
    "Realizing the error of his ways, Santa has switched to a better model of determining whether a string is naughty or nice. None of the old rules apply, as they are all clearly ridiculous.\n",
    "\n",
    "Now, a nice string is one with all of the following properties:\n",
    "\n",
    "- It contains a pair of any two letters that appears at least twice in the string without overlapping, like `xyxy` (`xy`) or `aabcdefgaa` (`aa`), but not like `aaa` (`aa`, but it overlaps).\n",
    "- It contains at least one letter which repeats with exactly one letter between them, like `xyx`, `abcdefeghi` (`efe`), or even `aaa`.\n",
    "\n",
    "For example:\n",
    "\n",
    "- `qjhvhtzxzqqjkmpb` is nice because is has a pair that appears twice (`qj`) and a letter that repeats with exactly one letter between them (`zxz`).\n",
    "- `xxyxx` is nice because it has a pair that appears twice and a letter that repeats with one between, even though the letters used by each rule overlap.\n",
    "- `uurcxstgmygtbstg` is naughty because it has a pair (`tg`) but no repeat with a single letter between them.\n",
    "- `ieodomkazucvgmuy` is naughty because it has a repeating letter with one between (`odo`), but no pair that appears twice.\n",
    "\n",
    "How many strings are nice under these new rules?"
   ]
  },
  {
   "cell_type": "code",
   "execution_count": 10,
   "metadata": {},
   "outputs": [
    {
     "name": "stdout",
     "output_type": "stream",
     "text": [
      "Expected True: got True\n",
      "Expected False: got False\n",
      "51\n"
     ]
    }
   ],
   "source": [
    "# Part 2\n",
    "test_input_nice_2 = \"qjhvhtzxzqqjkmpb\"\n",
    "test_input_naughty_2 = \"uurcxstgmygtbstg\"\n",
    "\n",
    "\n",
    "def contains_pair_of_two_letters(string: str) -> bool:\n",
    "    idx = 0\n",
    "    while idx < len(string):\n",
    "        if string[idx : idx + 2] in string[idx + 2 :]:\n",
    "            return True\n",
    "        idx += 1\n",
    "    return False\n",
    "\n",
    "\n",
    "def contains_letter_repeat_with_letter_between(string: str) -> bool:\n",
    "    for i in range(len(string) - 2):\n",
    "        if string[i] == string[i + 2]:\n",
    "            return True\n",
    "    return False\n",
    "\n",
    "\n",
    "def is_nice_2(string: str) -> bool:\n",
    "    return contains_pair_of_two_letters(\n",
    "        string\n",
    "    ) and contains_letter_repeat_with_letter_between(string)\n",
    "\n",
    "\n",
    "print(f\"Expected True: got {is_nice_2(test_input_nice_2)}\")\n",
    "print(f\"Expected False: got {is_nice_2(test_input_naughty_2)}\")\n",
    "\n",
    "print(sum([is_nice_2(string.strip()) for string in strings]))"
   ]
  },
  {
   "cell_type": "code",
   "execution_count": null,
   "metadata": {},
   "outputs": [],
   "source": []
  }
 ],
 "metadata": {
  "kernelspec": {
   "display_name": ".venv",
   "language": "python",
   "name": "python3"
  },
  "language_info": {
   "codemirror_mode": {
    "name": "ipython",
    "version": 3
   },
   "file_extension": ".py",
   "mimetype": "text/x-python",
   "name": "python",
   "nbconvert_exporter": "python",
   "pygments_lexer": "ipython3",
   "version": "3.11.3"
  }
 },
 "nbformat": 4,
 "nbformat_minor": 2
}
