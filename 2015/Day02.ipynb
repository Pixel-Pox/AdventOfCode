{
 "cells": [
  {
   "cell_type": "markdown",
   "metadata": {},
   "source": [
    "### --- Day 2: I Was Told There Would Be No Math ---\n",
    "The elves are running low on wrapping paper, and so they need to submit an order for more. They have a list of the dimensions (length `l`, width `w`, and height `h`) of each present, and only want to order exactly as much as they need.\n",
    "\n",
    "Fortunately, every present is a box (a perfect right rectangular prism), which makes calculating the required wrapping paper for each gift a little easier: find the surface area of the box, which is `2*l*w + 2*w*h + 2*h*l`. The elves also need a little extra paper for each present: the area of the smallest side.\n",
    "\n",
    "For example:\n",
    "\n",
    "- A present with dimensions `2x3x4` requires `2*6 + 2*12 + 2*8 = 52` square feet of wrapping paper plus `6` square feet of slack, for a - total of `58` square feet.\n",
    "- A present with dimensions `1x1x10` requires `2*1 + 2*10 + 2*10 = 42` square feet of wrapping paper plus `1` square foot of slack, for a total of `43` square feet.\n",
    "\n",
    "All numbers in the elves' list are in feet. How many total square feet of wrapping paper should they order?"
   ]
  },
  {
   "cell_type": "code",
   "execution_count": 10,
   "metadata": {},
   "outputs": [
    {
     "name": "stdout",
     "output_type": "stream",
     "text": [
      "1588178\n"
     ]
    }
   ],
   "source": [
    "def parse_input(data: str) -> list[list[int]]:\n",
    "    return [[int(x) for x in line.split(\"x\")] for line in data.splitlines()]\n",
    "\n",
    "\n",
    "def get_surface_area(length, width, height):\n",
    "    return 2 * (length * width + width * height + height * length)\n",
    "\n",
    "\n",
    "def get_mult_of_two_smallest_numbers(numbers: list[int, int, int]) -> int:\n",
    "    numbers.sort()\n",
    "    return numbers[0] * numbers[1]\n",
    "\n",
    "\n",
    "def get_result(data: str) -> int:\n",
    "    total_square_feet = 0\n",
    "    for length, width, height in parse_input(data):\n",
    "        total_square_feet += get_mult_of_two_smallest_numbers(\n",
    "            [length, width, height]\n",
    "        ) + get_surface_area(length, width, height)\n",
    "    return total_square_feet\n",
    "\n",
    "\n",
    "# Part 1\n",
    "with open(\"data/day02.txt\") as f:\n",
    "    data = f.read()\n",
    "\n",
    "print(get_result(data))"
   ]
  },
  {
   "cell_type": "markdown",
   "metadata": {},
   "source": [
    "### --- Part Two ---\n",
    "The elves are also running low on ribbon. Ribbon is all the same width, so they only have to worry about the length they need to order, which they would again like to be exact.\n",
    "\n",
    "The ribbon required to wrap a present is the shortest distance around its sides, or the smallest perimeter of any one face. Each present also requires a bow made out of ribbon as well; the feet of ribbon required for the perfect bow is equal to the cubic feet of volume of the present. Don't ask how they tie the bow, though; they'll never tell.\n",
    "\n",
    "For example:\n",
    "\n",
    "- A present with dimensions `2x3x4` requires `2+2+3+3 = 10` feet of ribbon to wrap the present plus `2*3*4 = 24` feet of ribbon for the -bow, for a total of `34` feet.\n",
    "- A present with dimensions `1x1x10` requires `1+1+1+1 = 4` feet of ribbon to wrap the present plus `1*1*10 = 10` feet of ribbon for the bow, for a total of `14` feet.\n",
    "\n",
    "How many total feet of ribbon should they order?"
   ]
  },
  {
   "cell_type": "code",
   "execution_count": 11,
   "metadata": {},
   "outputs": [
    {
     "name": "stdout",
     "output_type": "stream",
     "text": [
      "3783758\n"
     ]
    }
   ],
   "source": [
    "# Part 2\n",
    "def calc_ribbon_wrap(dimensions: list[int]) -> int:\n",
    "    dimensions.sort()\n",
    "    return 2 * (dimensions[0] + dimensions[1])\n",
    "\n",
    "\n",
    "def get_ribbon_length(length, width, height):\n",
    "    return calc_ribbon_wrap([length, width, height]) + length * width * height\n",
    "\n",
    "\n",
    "def get_result_part2(data: str) -> int:\n",
    "    total_ribbon_length = 0\n",
    "    for length, width, height in parse_input(data):\n",
    "        total_ribbon_length += get_ribbon_length(length, width, height)\n",
    "    return total_ribbon_length\n",
    "\n",
    "\n",
    "print(get_result_part2(data))"
   ]
  }
 ],
 "metadata": {
  "kernelspec": {
   "display_name": ".venv",
   "language": "python",
   "name": "python3"
  },
  "language_info": {
   "codemirror_mode": {
    "name": "ipython",
    "version": 3
   },
   "file_extension": ".py",
   "mimetype": "text/x-python",
   "name": "python",
   "nbconvert_exporter": "python",
   "pygments_lexer": "ipython3",
   "version": "3.11.3"
  }
 },
 "nbformat": 4,
 "nbformat_minor": 2
}
