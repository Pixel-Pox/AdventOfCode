{
 "cells": [
  {
   "cell_type": "markdown",
   "metadata": {},
   "source": [
    "### --- Day 8: Haunted Wasteland ---\n",
    "You're still riding a camel across Desert Island when you spot a sandstorm quickly approaching. When you turn to warn the Elf, she disappears before your eyes! To be fair, she had just finished warning you about ghosts a few minutes ago.\n",
    "\n",
    "One of the camel's pouches is labeled \"maps\" - sure enough, it's full of documents (your puzzle input) about how to navigate the desert. At least, you're pretty sure that's what they are; one of the documents contains a list of left/right instructions, and the rest of the documents seem to describe some kind of network of labeled nodes.\n",
    "\n",
    "It seems like you're meant to use the left/right instructions to navigate the network. Perhaps if you have the camel follow the same instructions, you can escape the haunted wasteland!\n",
    "\n",
    "After examining the maps for a bit, two nodes stick out: AAA and ZZZ. You feel like AAA is where you are now, and you have to follow the left/right instructions until you reach ZZZ.\n",
    "\n",
    "This format defines each node of the network individually. For example:\n",
    "```\n",
    "RL\n",
    "\n",
    "AAA = (BBB, CCC)\n",
    "BBB = (DDD, EEE)\n",
    "CCC = (ZZZ, GGG)\n",
    "DDD = (DDD, DDD)\n",
    "EEE = (EEE, EEE)\n",
    "GGG = (GGG, GGG)\n",
    "ZZZ = (ZZZ, ZZZ)\n",
    "```\n",
    "\n",
    "Starting with AAA, you need to look up the next element based on the next left/right instruction in your input. In this example, start with AAA and go right (R) by choosing the right element of AAA, CCC. Then, L means to choose the left element of CCC, ZZZ. By following the left/right instructions, you reach ZZZ in 2 steps.\n",
    "\n",
    "Of course, you might not find ZZZ right away. If you run out of left/right instructions, repeat the whole sequence of instructions as necessary: RL really means RLRLRLRLRLRLRLRL... and so on. For example, here is a situation that takes 6 steps to reach ZZZ:\n",
    "\n",
    "```\n",
    "LLR\n",
    "\n",
    "AAA = (BBB, BBB)\n",
    "BBB = (AAA, ZZZ)\n",
    "ZZZ = (ZZZ, ZZZ)\n",
    "```\n",
    "\n",
    "Starting at AAA, follow the left/right instructions. How many steps are required to reach ZZZ?"
   ]
  },
  {
   "cell_type": "code",
   "execution_count": 46,
   "metadata": {},
   "outputs": [],
   "source": [
    "test_input = \"\"\"RL\n",
    "\n",
    "AAA = (BBB, CCC)\n",
    "BBB = (DDD, EEE)\n",
    "CCC = (ZZZ, GGG)\n",
    "DDD = (DDD, DDD)\n",
    "EEE = (EEE, EEE)\n",
    "GGG = (GGG, GGG)\n",
    "ZZZ = (ZZZ, ZZZ)\"\"\"\n",
    "\n",
    "test_input_2 = \"\"\"LLR\n",
    "\n",
    "AAA = (BBB, BBB)\n",
    "BBB = (AAA, ZZZ)\n",
    "ZZZ = (ZZZ, ZZZ)\"\"\"\n",
    "\n",
    "result = 2\n",
    "\n",
    "result2 = 6"
   ]
  },
  {
   "cell_type": "code",
   "execution_count": 47,
   "metadata": {},
   "outputs": [
    {
     "name": "stdout",
     "output_type": "stream",
     "text": [
      "found ZZZ in 2 steps\n",
      "found ZZZ in 6 steps\n"
     ]
    },
    {
     "data": {
      "text/plain": [
       "6"
      ]
     },
     "execution_count": 47,
     "metadata": {},
     "output_type": "execute_result"
    }
   ],
   "source": [
    "def parse_string(string: str) -> tuple[str, dict[str, tuple[str]]]:\n",
    "    directions, rules = string.split(\"\\n\\n\")\n",
    "    rules = rules.split(\"\\n\")\n",
    "    map_dict = {}\n",
    "    for rule in rules:\n",
    "        rule = rule.split(\" = \")\n",
    "        map_dict[rule[0]] = tuple(rule[1].strip(\"()\").split(\", \"))\n",
    "\n",
    "    return directions, map_dict\n",
    "\n",
    "import itertools\n",
    "\n",
    "def get_steps(directions: str, map_dict: dict[str, tuple[str]]) -> int:\n",
    "    total_steps_count = 0\n",
    "    node = 'AAA'\n",
    "    for direction in itertools.cycle(directions):\n",
    "        total_steps_count += 1\n",
    "        if direction == \"L\":\n",
    "            node = map_dict[node][0]\n",
    "        else:\n",
    "            node = map_dict[node][1]\n",
    "\n",
    "        if node == \"ZZZ\":\n",
    "            print(f\"found ZZZ in {total_steps_count} steps\")\n",
    "            break\n",
    "    \n",
    "    return total_steps_count\n",
    "\n",
    "\n",
    "get_steps(*parse_string(test_input))\n",
    "get_steps(*parse_string(test_input_2))"
   ]
  },
  {
   "cell_type": "code",
   "execution_count": 48,
   "metadata": {},
   "outputs": [
    {
     "name": "stdout",
     "output_type": "stream",
     "text": [
      "found ZZZ in 13939 steps\n"
     ]
    },
    {
     "data": {
      "text/plain": [
       "13939"
      ]
     },
     "execution_count": 48,
     "metadata": {},
     "output_type": "execute_result"
    }
   ],
   "source": [
    "with open(\"data/day08.txt\") as f:\n",
    "    directions, map_dict = parse_string(f.read())\n",
    "\n",
    "get_steps(directions, map_dict)"
   ]
  },
  {
   "cell_type": "markdown",
   "metadata": {},
   "source": [
    "### --- Part Two ---\n",
    "The sandstorm is upon you and you aren't any closer to escaping the wasteland. You had the camel follow the instructions, but you've barely left your starting position. It's going to take significantly more steps to escape!\n",
    "\n",
    "What if the map isn't for people - what if the map is for ghosts? Are ghosts even bound by the laws of spacetime? Only one way to find out.\n",
    "\n",
    "After examining the maps a bit longer, your attention is drawn to a curious fact: the number of nodes with names ending in A is equal to the number ending in Z! If you were a ghost, you'd probably just start at every node that ends with A and follow all of the paths at the same time until they all simultaneously end up at nodes that end with Z.\n",
    "\n",
    "For example:\n",
    "\n",
    "```\n",
    "LR\n",
    "\n",
    "11A = (11B, XXX)\n",
    "11B = (XXX, 11Z)\n",
    "11Z = (11B, XXX)\n",
    "22A = (22B, XXX)\n",
    "22B = (22C, 22C)\n",
    "22C = (22Z, 22Z)\n",
    "22Z = (22B, 22B)\n",
    "XXX = (XXX, XXX)\n",
    "```\n",
    "\n",
    "Here, there are two starting nodes, 11A and 22A (because they both end with A). As you follow each left/right instruction, use that instruction to simultaneously navigate away from both nodes you're currently on. Repeat this process until all of the nodes you're currently on end with Z. (If only some of the nodes you're on end with Z, they act like any other node and you continue as normal.) In this example, you would proceed as follows:\n",
    "\n",
    "- Step 0: You are at 11A and 22A.\n",
    "- Step 1: You choose all of the left paths, leading you to 11B and 22B.\n",
    "- Step 2: You choose all of the right paths, leading you to 11Z and 22C.\n",
    "- Step 3: You choose all of the left paths, leading you to 11B and 22Z.\n",
    "- Step 4: You choose all of the right paths, leading you to 11Z and 22B.\n",
    "- Step 5: You choose all of the left paths, leading you to 11B and 22C.\n",
    "- Step 6: You choose all of the right paths, leading you to 11Z and 22Z.\n",
    "So, in this example, you end up entirely on nodes that end in Z after 6 steps.\n",
    "\n",
    "Simultaneously start on every node that ends with A. How many steps does it take before you're only on nodes that end with Z?"
   ]
  },
  {
   "cell_type": "code",
   "execution_count": 49,
   "metadata": {},
   "outputs": [],
   "source": [
    "test_input_3 = \"\"\"LR\n",
    "\n",
    "11A = (11B, XXX)\n",
    "11B = (XXX, 11Z)\n",
    "11Z = (11B, XXX)\n",
    "22A = (22B, XXX)\n",
    "22B = (22C, 22C)\n",
    "22C = (22Z, 22Z)\n",
    "22Z = (22B, 22B)\n",
    "XXX = (XXX, XXX)\"\"\"\n",
    "\n",
    "result3 = 6"
   ]
  },
  {
   "cell_type": "code",
   "execution_count": 53,
   "metadata": {},
   "outputs": [
    {
     "name": "stdout",
     "output_type": "stream",
     "text": [
      "found node that ends with Z in 2 steps\n",
      "found node that ends with Z in 3 steps\n",
      "6\n",
      "True\n"
     ]
    }
   ],
   "source": [
    "def get_steps2(node: str, map_dict: dict[str, tuple[str]]) -> int:\n",
    "    total_steps_count = 0\n",
    "    for direction in itertools.cycle(directions):\n",
    "        total_steps_count += 1\n",
    "        if direction == \"L\":\n",
    "            node = map_dict[node][0]\n",
    "        else:\n",
    "            node = map_dict[node][1]\n",
    "\n",
    "        if node.endswith(\"Z\"):\n",
    "            print(f\"found node that ends with Z in {total_steps_count} steps\")\n",
    "            break\n",
    "    \n",
    "    return total_steps_count\n",
    "\n",
    "nodes_that_end_with_A = [node for node in map_dict if node.endswith(\"A\")]\n",
    "steps_counts = [get_steps2(node, map_dict) for node in nodes_that_end_with_A]\n",
    "\n",
    "from math import lcm\n",
    "print(lcm(*steps_counts))\n",
    "print(result3 == lcm(*steps_counts))\n"
   ]
  },
  {
   "cell_type": "code",
   "execution_count": 54,
   "metadata": {},
   "outputs": [
    {
     "name": "stdout",
     "output_type": "stream",
     "text": [
      "found node that ends with Z in 11309 steps\n",
      "found node that ends with Z in 19199 steps\n",
      "found node that ends with Z in 12361 steps\n",
      "found node that ends with Z in 16043 steps\n",
      "found node that ends with Z in 13939 steps\n",
      "found node that ends with Z in 18673 steps\n"
     ]
    },
    {
     "data": {
      "text/plain": [
       "8906539031197"
      ]
     },
     "execution_count": 54,
     "metadata": {},
     "output_type": "execute_result"
    }
   ],
   "source": [
    "with open(\"data/day08.txt\") as f:\n",
    "    directions, map_dict = parse_string(f.read())\n",
    "\n",
    "nodes_that_end_with_A = [node for node in map_dict if node.endswith(\"A\")]\n",
    "steps_counts = [get_steps2(node, map_dict) for node in nodes_that_end_with_A]\n",
    "\n",
    "lcm(*steps_counts)"
   ]
  }
 ],
 "metadata": {
  "kernelspec": {
   "display_name": ".venv",
   "language": "python",
   "name": "python3"
  },
  "language_info": {
   "codemirror_mode": {
    "name": "ipython",
    "version": 3
   },
   "file_extension": ".py",
   "mimetype": "text/x-python",
   "name": "python",
   "nbconvert_exporter": "python",
   "pygments_lexer": "ipython3",
   "version": "3.11.3"
  }
 },
 "nbformat": 4,
 "nbformat_minor": 2
}
