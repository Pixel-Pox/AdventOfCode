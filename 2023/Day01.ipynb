{
 "cells": [
  {
   "cell_type": "markdown",
   "metadata": {},
   "source": [
    "### --- Day 1: Trebuchet?! ---\n",
    "Something is wrong with global snow production, and you've been selected to take a look. The Elves have even given you a map; on it, they've used stars to mark the top fifty locations that are likely to be having problems.\n",
    "\n",
    "You've been doing this long enough to know that to restore snow operations, you need to check all fifty stars by December 25th.\n",
    "\n",
    "Collect stars by solving puzzles. Two puzzles will be made available on each day in the Advent calendar; the second puzzle is unlocked when you complete the first. Each puzzle grants one star. Good luck!\n",
    "\n",
    "You try to ask why they can't just use a weather machine (\"not powerful enough\") and where they're even sending you (\"the sky\") and why your map looks mostly blank (\"you sure ask a lot of questions\") and hang on did you just say the sky (\"of course, where do you think snow comes from\") when you realize that the Elves are already loading you into a trebuchet (\"please hold still, we need to strap you in\").\n",
    "\n",
    "As they're making the final adjustments, they discover that their calibration document (your puzzle input) has been amended by a very young Elf who was apparently just excited to show off her art skills. Consequently, the Elves are having trouble reading the values on the document.\n",
    "\n",
    "The newly-improved calibration document consists of lines of text; each line originally contained a specific calibration value that the Elves now need to recover. On each line, the calibration value can be found by combining the first digit and the last digit (in that order) to form a single two-digit number.\n",
    "\n",
    "For example:\n",
    "```\n",
    "1abc2\n",
    "pqr3stu8vwx\n",
    "a1b2c3d4e5f\n",
    "treb7uchet\n",
    "```\n",
    "\n",
    "In this example, the calibration values of these four lines are 12, 38, 15, and 77. Adding these together produces 142.\n",
    "\n",
    "Consider your entire calibration document. What is the sum of all of the calibration values?\n",
    "\n",
    "To play, please identify yourself via one of these services:"
   ]
  },
  {
   "cell_type": "code",
   "execution_count": 1,
   "metadata": {},
   "outputs": [],
   "source": [
    "test_data = {\n",
    "    \"1abc2\": 12,\n",
    "    \"pqr3stu8vwx\": 38,\n",
    "    \"a1b2c3d4e5f\": 15,\n",
    "    \"treb7uchet\": 77,\n",
    "}\n",
    "test_result = 142"
   ]
  },
  {
   "cell_type": "code",
   "execution_count": 2,
   "metadata": {},
   "outputs": [
    {
     "name": "stdout",
     "output_type": "stream",
     "text": [
      "1abc2: 12 == 12: True\n",
      "pqr3stu8vwx: 38 == 38: True\n",
      "a1b2c3d4e5f: 15 == 15: True\n",
      "treb7uchet: 77 == 77: True\n",
      "Sum of all numbers: 142 == 142: True\n"
     ]
    }
   ],
   "source": [
    "def find_first_and_last_number_in_string(string: str) -> str:\n",
    "    for i in range(len(string)):\n",
    "        if string[i].isdigit():\n",
    "            start = string[i]\n",
    "            break\n",
    "    for i in range(len(string)-1, -1, -1):\n",
    "        if string[i].isdigit():\n",
    "            end = string[i]\n",
    "            break\n",
    "    return start + end\n",
    "\n",
    "# check if test values pass\n",
    "for string, expected in test_data.items():\n",
    "    result = find_first_and_last_number_in_string(string)\n",
    "    print(f\"{string}: {result} == {expected}: {int(result) == expected}\")\n",
    "\n",
    "for key in test_data.keys():\n",
    "    test_data[key] = int(find_first_and_last_number_in_string(key))\n",
    "\n",
    "print(f\"Sum of all numbers: {sum(test_data.values())} == {test_result}: {sum(test_data.values()) == test_result}\")"
   ]
  },
  {
   "cell_type": "code",
   "execution_count": 3,
   "metadata": {},
   "outputs": [
    {
     "name": "stdout",
     "output_type": "stream",
     "text": [
      "Sum of all numbers: 55834\n"
     ]
    }
   ],
   "source": [
    "with open(\"data/day01.txt\") as f:\n",
    "    data = f.read().splitlines()\n",
    "\n",
    "data = [int(find_first_and_last_number_in_string(string)) for string in data]\n",
    "print(f\"Sum of all numbers: {sum(data)}\")"
   ]
  },
  {
   "cell_type": "markdown",
   "metadata": {},
   "source": [
    "### --- Part Two ---\n",
    "Your calculation isn't quite right. It looks like some of the digits are actually spelled out with letters: one, two, three, four, five, six, seven, eight, and nine also count as valid \"digits\".\n",
    "\n",
    "Equipped with this new information, you now need to find the real first and last digit on each line. For example:\n",
    "```\n",
    "two1nine\n",
    "eightwothree\n",
    "abcone2threexyz\n",
    "xtwone3four\n",
    "4nineeightseven2\n",
    "zoneight234\n",
    "7pqrstsixteen\n",
    "```\n",
    "In this example, the calibration values are 29, 83, 13, 24, 42, 14, and 76. Adding these together produces 281.\n",
    "\n",
    "What is the sum of all of the calibration values?"
   ]
  },
  {
   "cell_type": "code",
   "execution_count": 4,
   "metadata": {},
   "outputs": [],
   "source": [
    "test_data_2 = {\n",
    "    \"two1nine\": 29, \n",
    "    \"eightwothree\": 83, \n",
    "    \"abcone2threexyz\": 13,\n",
    "    \"xtwone3four\": 24, \n",
    "    \"4nineeightseven2\": 42,  \n",
    "    \"zoneight234\": 14, \n",
    "    \"7pqrstsixteen\": 76,\n",
    "}\n",
    "\n",
    "test_result_2 = 281"
   ]
  },
  {
   "cell_type": "code",
   "execution_count": 5,
   "metadata": {},
   "outputs": [
    {
     "name": "stdout",
     "output_type": "stream",
     "text": [
      "two1nine: 29 == 29: True\n",
      "eightwothree: 83 == 83: True\n",
      "abcone2threexyz: 13 == 13: True\n",
      "xtwone3four: 24 == 24: True\n",
      "4nineeightseven2: 42 == 42: True\n",
      "zoneight234: 14 == 14: True\n",
      "7pqrstsixteen: 76 == 76: True\n",
      "Sum of all numbers: 281 == 281: True\n"
     ]
    }
   ],
   "source": [
    "spelled_out_numbers = {\n",
    "    \"one\": 1,\n",
    "    \"two\": 2,\n",
    "    \"three\": 3,\n",
    "    \"four\": 4,\n",
    "    \"five\": 5,\n",
    "    \"six\": 6,\n",
    "    \"seven\": 7,\n",
    "    \"eight\": 8,\n",
    "    \"nine\": 9\n",
    "}\n",
    "\n",
    "def find_first_and_last_number_in_string_2(string: str) -> str:\n",
    "    start = -1\n",
    "    for i in range(len(string)):\n",
    "        if start != -1:\n",
    "            break\n",
    "        if string[i].isdigit():\n",
    "            start = string[i]\n",
    "            break\n",
    "        else:\n",
    "            for key, value in spelled_out_numbers.items():\n",
    "                if string[i:i+len(key)] == key:\n",
    "                    start = str(value)\n",
    "                    break\n",
    "    \n",
    "    end = -1\n",
    "    for i in range(len(string)-1, -1, -1):\n",
    "        if end != -1:\n",
    "            break\n",
    "        if string[i].isdigit():\n",
    "            end = string[i]\n",
    "            break\n",
    "        else:\n",
    "            for key, value in spelled_out_numbers.items():\n",
    "                if string[i-len(key)+1:i+1] == key:\n",
    "                    end = str(value)\n",
    "                    break\n",
    "    return start + end\n",
    "\n",
    "# check if test values pass\n",
    "for string, expected in test_data_2.items():\n",
    "    result = find_first_and_last_number_in_string_2(string)\n",
    "    print(f\"{string}: {result} == {expected}: {int(result) == expected}\")\n",
    "\n",
    "for key in test_data_2.keys():\n",
    "    test_data_2[key] = int(find_first_and_last_number_in_string_2(key))\n",
    "\n",
    "print(f\"Sum of all numbers: {sum(test_data_2.values())} == {test_result_2}: {sum(test_data_2.values()) == test_result_2}\")"
   ]
  },
  {
   "cell_type": "code",
   "execution_count": 6,
   "metadata": {},
   "outputs": [
    {
     "name": "stdout",
     "output_type": "stream",
     "text": [
      "Sum of all numbers: 53221\n"
     ]
    }
   ],
   "source": [
    "with open(\"data/day01.txt\") as f:\n",
    "    data = f.read().splitlines()\n",
    "\n",
    "data = [int(find_first_and_last_number_in_string_2(string)) for string in data]\n",
    "print(f\"Sum of all numbers: {sum(data)}\")"
   ]
  },
  {
   "cell_type": "code",
   "execution_count": null,
   "metadata": {},
   "outputs": [],
   "source": []
  }
 ],
 "metadata": {
  "kernelspec": {
   "display_name": ".venv",
   "language": "python",
   "name": "python3"
  },
  "language_info": {
   "codemirror_mode": {
    "name": "ipython",
    "version": 3
   },
   "file_extension": ".py",
   "mimetype": "text/x-python",
   "name": "python",
   "nbconvert_exporter": "python",
   "pygments_lexer": "ipython3",
   "version": "3.11.3"
  }
 },
 "nbformat": 4,
 "nbformat_minor": 2
}
