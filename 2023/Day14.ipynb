{
 "cells": [
  {
   "cell_type": "code",
   "execution_count": 146,
   "metadata": {},
   "outputs": [],
   "source": [
    "test_input = \"\"\"O....#....\n",
    "O.OO#....#\n",
    ".....##...\n",
    "OO.#O....O\n",
    ".O.....O#.\n",
    "O.#..O.#.#\n",
    "..O..#O..O\n",
    ".......O..\n",
    "#....###..\n",
    "#OO..#....\"\"\"\n",
    "\n",
    "total_test_load = 136"
   ]
  },
  {
   "cell_type": "code",
   "execution_count": 147,
   "metadata": {},
   "outputs": [
    {
     "name": "stdout",
     "output_type": "stream",
     "text": [
      "136\n"
     ]
    }
   ],
   "source": [
    "def parse_string(string: str) -> list[list[str]]:\n",
    "    return [list(line.strip()) for line in string.splitlines()]\n",
    "\n",
    "\n",
    "def calculate_total_rock_value(data: list[list[str]]) -> int:\n",
    "    total = 0\n",
    "    for idx, row in enumerate(reversed(data), 1):\n",
    "        for rock in row:\n",
    "            if rock == \"O\":\n",
    "                total += idx\n",
    "    return total\n",
    "\n",
    "\n",
    "def move_all_rocks(col: tuple[str], reverse: bool) -> list[str]:\n",
    "    col = \"\".join(col)\n",
    "    sorted_col = \"\"\n",
    "    for group in col.split(\"#\"):\n",
    "        group = sorted(group, reverse=reverse)\n",
    "        sorted_col += \"\".join(group) + \"#\"\n",
    "\n",
    "    return list(sorted_col[:-1])\n",
    "\n",
    "data = parse_string(test_input)\n",
    "\n",
    "tilted_platform = []\n",
    "for col in range(len(data[0])):\n",
    "    tilted_platform.append(move_all_rocks((row[col] for row in data), True))\n",
    "\n",
    "total_rock_value = calculate_total_rock_value(list(zip(*tilted_platform)))\n",
    "print(total_rock_value)"
   ]
  },
  {
   "cell_type": "code",
   "execution_count": 148,
   "metadata": {},
   "outputs": [
    {
     "name": "stdout",
     "output_type": "stream",
     "text": [
      "109596\n"
     ]
    }
   ],
   "source": [
    "# Part 1\n",
    "with open(\"data/day14.txt\") as f:\n",
    "    data = parse_string(f.read())\n",
    "\n",
    "tilted_platform = []\n",
    "\n",
    "for col in range(len(data[0])):\n",
    "    tilted_platform.append(move_all_rocks((row[col] for row in data), True))\n",
    "\n",
    "total_rock_value = 0\n",
    "for col in tilted_platform:\n",
    "    for idx, rock in enumerate(reversed(col), 1):\n",
    "        if rock == \"O\":\n",
    "            total_rock_value += idx\n",
    "\n",
    "print(total_rock_value)"
   ]
  },
  {
   "cell_type": "code",
   "execution_count": 149,
   "metadata": {},
   "outputs": [
    {
     "name": "stdout",
     "output_type": "stream",
     "text": [
      "96105\n"
     ]
    }
   ],
   "source": [
    "# Part 2\n",
    "def tilt_platform_by_1_cycle(data: list[list[str]]) -> list[list[str]]:\n",
    "    # tilt north\n",
    "    data = list(zip(*data))\n",
    "    data = [move_all_rocks(col, True) for col in data]\n",
    "\n",
    "    # tilt east\n",
    "    data = list(zip(*data))\n",
    "    data = [move_all_rocks(row, True) for row in data]\n",
    "\n",
    "    # tilt south\n",
    "    data = list(zip(*data))\n",
    "    data = [move_all_rocks(col, False) for col in data]\n",
    "\n",
    "    # tilt west\n",
    "    data = list(zip(*data))\n",
    "    data = [move_all_rocks(row, False) for row in data]\n",
    "\n",
    "    return data\n",
    "\n",
    "with open(\"data/day14.txt\") as f:\n",
    "    data = parse_string(f.read())\n",
    "\n",
    "history = [data]\n",
    "cycle_count = 0\n",
    "while cycle_count < 1_000_000_000:\n",
    "    data = tilt_platform_by_1_cycle(data)\n",
    "    cycle_count += 1\n",
    "    if data in history:\n",
    "        start_of_cycle = history.index(data)\n",
    "        cycle_length = cycle_count - start_of_cycle\n",
    "        cycles_left = (1_000_000_000 - cycle_count) % cycle_length\n",
    "        data = history[start_of_cycle + cycles_left]\n",
    "        break\n",
    "    history.append(data)\n",
    "\n",
    "total_rock_value = calculate_total_rock_value(data)\n",
    "\n",
    "print(total_rock_value)"
   ]
  }
 ],
 "metadata": {
  "kernelspec": {
   "display_name": ".venv",
   "language": "python",
   "name": "python3"
  },
  "language_info": {
   "codemirror_mode": {
    "name": "ipython",
    "version": 3
   },
   "file_extension": ".py",
   "mimetype": "text/x-python",
   "name": "python",
   "nbconvert_exporter": "python",
   "pygments_lexer": "ipython3",
   "version": "3.11.3"
  }
 },
 "nbformat": 4,
 "nbformat_minor": 2
}
