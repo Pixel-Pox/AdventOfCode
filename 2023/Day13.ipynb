{
 "cells": [
  {
   "cell_type": "code",
   "execution_count": 140,
   "metadata": {},
   "outputs": [],
   "source": [
    "test_input = \"\"\"#.##..##.\n",
    "..#.##.#.\n",
    "##......#\n",
    "##......#\n",
    "..#.##.#.\n",
    "..##..##.\n",
    "#.#.##.#.\n",
    "\n",
    "#...##..#\n",
    "#....#..#\n",
    "..##..###\n",
    "#####.##.\n",
    "#####.##.\n",
    "..##..###\n",
    "#....#..#\"\"\"\n",
    "\n",
    "total_test_result = 405"
   ]
  },
  {
   "cell_type": "code",
   "execution_count": 141,
   "metadata": {},
   "outputs": [
    {
     "name": "stdout",
     "output_type": "stream",
     "text": [
      "405\n"
     ]
    }
   ],
   "source": [
    "def parse_input(string: str) -> list[list[list[str]]]:\n",
    "    return [\n",
    "        [list(row) for row in reflection]\n",
    "        for reflection in [\n",
    "            reflection.split(\"\\n\") for reflection in string.split(\"\\n\\n\")\n",
    "        ]\n",
    "    ]\n",
    "\n",
    "\n",
    "def get_reflection_value(reflection: list[list[str]]) -> int:\n",
    "    are_all_rows_equal = False\n",
    "    are_all_cols_equal = False\n",
    "    # check symmetry along x-axis\n",
    "    for idx in range(1, len(reflection)):\n",
    "        are_all_rows_equal = all(\n",
    "            [\n",
    "                row1 == row2\n",
    "                for row1, row2 in zip(\n",
    "                    reversed(reflection[:idx]), reflection[idx:], strict=False\n",
    "                )\n",
    "            ]\n",
    "        )\n",
    "        if are_all_rows_equal:\n",
    "            return idx * 100\n",
    "\n",
    "    # check symmetry along y-axis\n",
    "    # switch rows and cols in reflection\n",
    "    reflection = list(zip(*reflection))\n",
    "    for idx in range(1, len(reflection)):\n",
    "        are_all_cols_equal = all(\n",
    "            [\n",
    "                row1 == row2\n",
    "                for row1, row2 in zip(\n",
    "                    reversed(reflection[:idx]), reflection[idx:], strict=False\n",
    "                )\n",
    "            ]\n",
    "        )\n",
    "        if are_all_cols_equal:\n",
    "            return idx\n",
    "\n",
    "    return 0\n",
    "\n",
    "\n",
    "total = 0\n",
    "\n",
    "for reflection in parse_input(test_input):\n",
    "    total += get_reflection_value(reflection)\n",
    "\n",
    "print(total)"
   ]
  },
  {
   "cell_type": "code",
   "execution_count": 142,
   "metadata": {},
   "outputs": [
    {
     "name": "stdout",
     "output_type": "stream",
     "text": [
      "33975\n"
     ]
    }
   ],
   "source": [
    "with open(\"data/day13.txt\") as f:\n",
    "    data = f.read()\n",
    "\n",
    "total = 0\n",
    "\n",
    "for reflection in parse_input(data):\n",
    "    total += get_reflection_value(reflection)\n",
    "\n",
    "print(total)"
   ]
  },
  {
   "cell_type": "code",
   "execution_count": 144,
   "metadata": {},
   "outputs": [
    {
     "name": "stdout",
     "output_type": "stream",
     "text": [
      "400\n"
     ]
    }
   ],
   "source": [
    "def count_different_chars_per_row(reflection: list[list[str]]) -> list[int]:\n",
    "    are_all_rows_equal = False\n",
    "    are_all_cols_equal = False\n",
    "    # check symmetry along x-axis\n",
    "    for idx in range(1, len(reflection)):\n",
    "        no_of_different_chars = 0\n",
    "        for row1, row2 in zip(reversed(reflection[:idx]), reflection[idx:]):\n",
    "            if row1 != row2:\n",
    "                no_of_different_chars += sum(\n",
    "                    [1 for char1, char2 in zip(row1, row2) if char1 != char2]\n",
    "                )\n",
    "        if are_all_rows_equal or no_of_different_chars == 1:\n",
    "            return idx * 100\n",
    "\n",
    "    # check symmetry along y-axis\n",
    "    # switch rows and cols in reflection\n",
    "    reflection = list(zip(*reflection))\n",
    "    for idx in range(1, len(reflection)):\n",
    "        no_of_different_chars = 0\n",
    "        for row1, row2 in zip(reversed(reflection[:idx]), reflection[idx:]):\n",
    "            if row1 != row2:\n",
    "                no_of_different_chars += sum(\n",
    "                    [1 for char1, char2 in zip(row1, row2) if char1 != char2]\n",
    "                )\n",
    "        if are_all_cols_equal or no_of_different_chars == 1:\n",
    "            return idx\n",
    "    return 0\n",
    "\n",
    "\n",
    "total = 0\n",
    "\n",
    "for reflection in parse_input(test_input):\n",
    "    total += count_different_chars_per_row(reflection)\n",
    "\n",
    "print(total)"
   ]
  },
  {
   "cell_type": "code",
   "execution_count": 145,
   "metadata": {},
   "outputs": [
    {
     "name": "stdout",
     "output_type": "stream",
     "text": [
      "29083\n"
     ]
    }
   ],
   "source": [
    "with open(\"data/day13.txt\") as f:\n",
    "    data = f.read()\n",
    "\n",
    "total = 0\n",
    "\n",
    "for reflection in parse_input(data):\n",
    "    total += count_different_chars_per_row(reflection)\n",
    "\n",
    "print(total)"
   ]
  },
  {
   "cell_type": "code",
   "execution_count": null,
   "metadata": {},
   "outputs": [],
   "source": []
  }
 ],
 "metadata": {
  "kernelspec": {
   "display_name": ".venv",
   "language": "python",
   "name": "python3"
  },
  "language_info": {
   "codemirror_mode": {
    "name": "ipython",
    "version": 3
   },
   "file_extension": ".py",
   "mimetype": "text/x-python",
   "name": "python",
   "nbconvert_exporter": "python",
   "pygments_lexer": "ipython3",
   "version": "3.11.3"
  }
 },
 "nbformat": 4,
 "nbformat_minor": 2
}
