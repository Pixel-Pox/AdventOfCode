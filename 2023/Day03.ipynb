{
 "cells": [
  {
   "cell_type": "markdown",
   "metadata": {},
   "source": [
    "### --- Day 3: Gear Ratios ---\n",
    "You and the Elf eventually reach a gondola lift station; he says the gondola lift will take you up to the water source, but this is as far as he can bring you. You go inside.\n",
    "\n",
    "It doesn't take long to find the gondolas, but there seems to be a problem: they're not moving.\n",
    "\n",
    "\"Aaah!\"\n",
    "\n",
    "You turn around to see a slightly-greasy Elf with a wrench and a look of surprise. \"Sorry, I wasn't expecting anyone! The gondola lift isn't working right now; it'll still be a while before I can fix it.\" You offer to help.\n",
    "\n",
    "The engineer explains that an engine part seems to be missing from the engine, but nobody can figure out which one. If you can add up all the part numbers in the engine schematic, it should be easy to work out which part is missing.\n",
    "\n",
    "The engine schematic (your puzzle input) consists of a visual representation of the engine. There are lots of numbers and symbols you don't really understand, but apparently any number adjacent to a symbol, even diagonally, is a \"part number\" and should be included in your sum. (Periods (.) do not count as a symbol.)\n",
    "\n",
    "Here is an example engine schematic:\n",
    "```\n",
    "467..114..\n",
    "...*......\n",
    "..35..633.\n",
    "......#...\n",
    "617*......\n",
    ".....+.58.\n",
    "..592.....\n",
    "......755.\n",
    "...$.*....\n",
    ".664.598..\n",
    "```\n",
    "In this schematic, two numbers are not part numbers because they are not adjacent to a symbol: 114 (top right) and 58 (middle right). Every other number is adjacent to a symbol and so is a part number; their sum is 4361.\n",
    "\n",
    "Of course, the actual engine schematic is much larger. What is the sum of all of the part numbers in the engine schematic?"
   ]
  },
  {
   "cell_type": "code",
   "execution_count": 102,
   "metadata": {},
   "outputs": [],
   "source": [
    "test_data = [\n",
    "    \"467..114..\",\n",
    "    \"...*......\",\n",
    "    \"..35..633.\",\n",
    "    \"......#...\",\n",
    "    \"617*......\",\n",
    "    \".....+.58.\",\n",
    "    \"..592.....\",\n",
    "    \"......755.\",\n",
    "    \"...$.*....\",\n",
    "    \".664.598..\",    \n",
    "]\n",
    "test_data = [list(row) for row in test_data]\n",
    "result = 4361"
   ]
  },
  {
   "cell_type": "code",
   "execution_count": 103,
   "metadata": {},
   "outputs": [],
   "source": [
    "from dataclasses import dataclass\n",
    "\n",
    "\n",
    "@dataclass\n",
    "class NumberPos:\n",
    "    row: int\n",
    "    col: int\n",
    "    length: int\n",
    "    value: int\n",
    "\n",
    "\n",
    "@dataclass\n",
    "class SymbolPos:\n",
    "    row: int\n",
    "    col: int\n",
    "    symbol: str\n",
    "\n",
    "\n",
    "def find_all_unique_symbols(data: list[list[str]]) -> set[str]:\n",
    "    return {\n",
    "        symbol\n",
    "        for row in data\n",
    "        for symbol in row\n",
    "        if symbol != \".\" and not symbol.isdigit()\n",
    "    }\n",
    "\n",
    "\n",
    "def find_all_symbol_positions(\n",
    "    data: list[list[str]], symbols: list[str]\n",
    ") -> list[SymbolPos]:\n",
    "    return [\n",
    "        SymbolPos(row, col, data[row][col])\n",
    "        for row in range(len(data))\n",
    "        for col in range(len(data[row]))\n",
    "        if data[row][col] in symbols\n",
    "    ]\n",
    "\n",
    "\n",
    "def find_all_number_postions(data: list[list[str]]) -> list[NumberPos]:\n",
    "    numbers = []\n",
    "    for i, line in enumerate(data):\n",
    "        j = 0\n",
    "        while j < len(line):\n",
    "            if line[j].isdigit():\n",
    "                length = 1\n",
    "                while j + length < len(line) and line[j + length].isdigit():\n",
    "                    length += 1\n",
    "                numbers.append(\n",
    "                    NumberPos(i, j, length, int(\"\".join(line[j : j + length])))\n",
    "                )\n",
    "                j += length\n",
    "            else:\n",
    "                j += 1\n",
    "    return numbers\n",
    "\n",
    "\n",
    "def is_symbol_and_number_adjecent(symbol_pos: SymbolPos, number_pos: NumberPos) -> bool:\n",
    "    acceptable_col_values = [\n",
    "        col_number\n",
    "        for col_number in range(\n",
    "            number_pos.col - 1, number_pos.col + number_pos.length + 1\n",
    "        )\n",
    "    ]\n",
    "    return (\n",
    "        abs(symbol_pos.row - number_pos.row) <= 1\n",
    "        and symbol_pos.col in acceptable_col_values\n",
    "    )\n",
    "\n",
    "\n",
    "def total_count(numbers_pos: list[NumberPos], symbols_pos: list[SymbolPos]) -> int:\n",
    "    total_value = 0\n",
    "    for number_pos in numbers_pos:\n",
    "        for symbol_pos in symbols_pos:\n",
    "            if is_symbol_and_number_adjecent(symbol_pos, number_pos):\n",
    "                total_value += number_pos.value\n",
    "                break\n",
    "    return total_value"
   ]
  },
  {
   "cell_type": "code",
   "execution_count": 104,
   "metadata": {},
   "outputs": [
    {
     "name": "stdout",
     "output_type": "stream",
     "text": [
      "Expected result: 4361, actual result: 4361\n"
     ]
    }
   ],
   "source": [
    "# test\n",
    "symbols = find_all_unique_symbols(test_data)\n",
    "symbol_positions = find_all_symbol_positions(test_data, symbols)\n",
    "number_positions = find_all_number_postions(test_data)\n",
    "print(\n",
    "    f\"Expected result: {result}, actual result: {total_count(number_positions, symbol_positions)}\"\n",
    ")"
   ]
  },
  {
   "cell_type": "code",
   "execution_count": 105,
   "metadata": {},
   "outputs": [
    {
     "name": "stdout",
     "output_type": "stream",
     "text": [
      "551094\n"
     ]
    }
   ],
   "source": [
    "with open(\"data/day03.txt\") as f:\n",
    "    data = f.read().splitlines()\n",
    "data = [list(row) for row in data]\n",
    "\n",
    "symbols = find_all_unique_symbols(data)\n",
    "symbol_positions = find_all_symbol_positions(data, symbols)\n",
    "number_positions = find_all_number_postions(data)\n",
    "print(total_count(number_positions, symbol_positions))"
   ]
  },
  {
   "cell_type": "markdown",
   "metadata": {},
   "source": [
    "### --- Part Two ---\n",
    "The engineer finds the missing part and installs it in the engine! As the engine springs to life, you jump in the closest gondola, finally ready to ascend to the water source.\n",
    "\n",
    "You don't seem to be going very fast, though. Maybe something is still wrong? Fortunately, the gondola has a phone labeled \"help\", so you pick it up and the engineer answers.\n",
    "\n",
    "Before you can explain the situation, she suggests that you look out the window. There stands the engineer, holding a phone in one hand and waving with the other. You're going so slowly that you haven't even left the station. You exit the gondola.\n",
    "\n",
    "The missing part wasn't the only issue - one of the gears in the engine is wrong. A gear is any * symbol that is adjacent to exactly two part numbers. Its gear ratio is the result of multiplying those two numbers together.\n",
    "\n",
    "This time, you need to find the gear ratio of every gear and add them all up so that the engineer can figure out which gear needs to be replaced.\n",
    "\n",
    "Consider the same engine schematic again:\n",
    "```\n",
    "467..114..\n",
    "...*......\n",
    "..35..633.\n",
    "......#...\n",
    "617*......\n",
    ".....+.58.\n",
    "..592.....\n",
    "......755.\n",
    "...$.*....\n",
    ".664.598..\n",
    "```\n",
    "In this schematic, there are two gears. The first is in the top left; it has part numbers 467 and 35, so its gear ratio is 16345. The second gear is in the lower right; its gear ratio is 451490. (The * adjacent to 617 is not a gear because it is only adjacent to one part number.) Adding up all of the gear ratios produces 467835.\n",
    "\n",
    "What is the sum of all of the gear ratios in your engine schematic?"
   ]
  },
  {
   "cell_type": "code",
   "execution_count": 106,
   "metadata": {},
   "outputs": [
    {
     "name": "stdout",
     "output_type": "stream",
     "text": [
      "Expected result: 467835, actual result: 467835\n"
     ]
    }
   ],
   "source": [
    "result2 = 467835\n",
    "\n",
    "def gear_ratio_count(numbers_pos: list[NumberPos], symbols_pos: list[SymbolPos]) -> int:\n",
    "    total_value = 0\n",
    "    gear_symbols = [symbol for symbol in symbols_pos if symbol.symbol == \"*\"]\n",
    "    for gear_symbol in gear_symbols:\n",
    "        gear_ratio = 1\n",
    "        adjacent_numbers = 0\n",
    "        # if number of adjacent numbers is exactly 2, then multiply these numbers to get the gear ratio and move to another gear symbol\n",
    "        for number_pos in numbers_pos:\n",
    "            if is_symbol_and_number_adjecent(gear_symbol, number_pos):\n",
    "                gear_ratio *= number_pos.value\n",
    "                adjacent_numbers += 1\n",
    "            if adjacent_numbers == 2:\n",
    "                total_value += gear_ratio\n",
    "                break\n",
    "\n",
    "    return total_value\n",
    "\n",
    "# test\n",
    "symbols = find_all_unique_symbols(test_data)\n",
    "symbol_positions = find_all_symbol_positions(test_data, symbols)\n",
    "number_positions = find_all_number_postions(test_data)\n",
    "print(\n",
    "    f\"Expected result: {result2}, actual result: {gear_ratio_count(number_positions, symbol_positions)}\"\n",
    ")\n",
    "    "
   ]
  },
  {
   "cell_type": "code",
   "execution_count": 107,
   "metadata": {},
   "outputs": [
    {
     "name": "stdout",
     "output_type": "stream",
     "text": [
      "80179647\n"
     ]
    }
   ],
   "source": [
    "with open(\"data/day03.txt\") as f:\n",
    "    data = f.read().splitlines()\n",
    "\n",
    "data = [list(row) for row in data]\n",
    "\n",
    "symbols = find_all_unique_symbols(data)\n",
    "symbol_positions = find_all_symbol_positions(data, symbols)\n",
    "number_positions = find_all_number_postions(data)\n",
    "print(gear_ratio_count(number_positions, symbol_positions))"
   ]
  }
 ],
 "metadata": {
  "kernelspec": {
   "display_name": ".venv",
   "language": "python",
   "name": "python3"
  },
  "language_info": {
   "codemirror_mode": {
    "name": "ipython",
    "version": 3
   },
   "file_extension": ".py",
   "mimetype": "text/x-python",
   "name": "python",
   "nbconvert_exporter": "python",
   "pygments_lexer": "ipython3",
   "version": "3.11.3"
  }
 },
 "nbformat": 4,
 "nbformat_minor": 2
}
