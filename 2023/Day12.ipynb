{
 "cells": [
  {
   "cell_type": "code",
   "execution_count": 30,
   "metadata": {},
   "outputs": [],
   "source": [
    "test_input = \"\"\"???.### 1,1,3\n",
    ".??..??...?##. 1,1,3\n",
    "?#?#?#?#?#?#?#? 1,3,1,6\n",
    "????.#...#... 4,1,1\n",
    "????.######..#####. 1,6,5\n",
    "?###???????? 3,2,1\"\"\"\n",
    "\n",
    "test_result = [1, 4, 1, 1, 4, 10]\n",
    "\n",
    "total_test_arrangements = 21 # sum(test_result)"
   ]
  },
  {
   "cell_type": "code",
   "execution_count": 31,
   "metadata": {},
   "outputs": [
    {
     "name": "stdout",
     "output_type": "stream",
     "text": [
      "21\n"
     ]
    }
   ],
   "source": [
    "import functools\n",
    "\n",
    "@functools.lru_cache(maxsize=None)\n",
    "def count_arrangements(row: str, blocks: tuple[int]) -> int: \n",
    "    # if the row is empty and there are no blocks left,\n",
    "    # we have a valid arrangement\n",
    "    if row == '':\n",
    "        return 1 if blocks == () else 0\n",
    "    \n",
    "    # if the blocks are empty but there are still broken springs left,\n",
    "    # we have an invalid arrangement\n",
    "    if blocks == (): \n",
    "        return 0 if '#' in row else 1\n",
    "    \n",
    "    result = 0\n",
    "\n",
    "    # if the first spring is unknown it must be operational because of the reamining code\n",
    "    # so we can just skip to next char\n",
    "    if row[0] in '.?':\n",
    "        result += count_arrangements(row[1:], blocks)\n",
    "\n",
    "    # this marks start of a block\n",
    "    if row[0] in '#?':\n",
    "        # block has to fit in remaining row and there can't be working strings in that block\n",
    "        if blocks[0] <= len(row) and not '.' in row[:blocks[0]] and (blocks[0] == len(row) or row[blocks[0]] != '#'):\n",
    "            result += count_arrangements(row[blocks[0] + 1:], blocks[1:])\n",
    "\n",
    "    return result\n",
    "    \n",
    "\n",
    "\n",
    "total = 0\n",
    "for line in test_input.split(\"\\n\"):\n",
    "    line = line.split(\" \")\n",
    "    row = line[0]\n",
    "    blocks = tuple(map(int, line[1].split(\",\")))\n",
    "    total += count_arrangements(row, blocks) \n",
    "\n",
    "print(total)"
   ]
  },
  {
   "cell_type": "code",
   "execution_count": 32,
   "metadata": {},
   "outputs": [
    {
     "name": "stdout",
     "output_type": "stream",
     "text": [
      "7490\n"
     ]
    }
   ],
   "source": [
    "# Part 1\n",
    "with open (\"data/day12.txt\", \"r\") as f:\n",
    "    data = f.read()\n",
    "\n",
    "total = 0\n",
    "for line in data.split(\"\\n\"):\n",
    "    line = line.split(\" \")\n",
    "    row = line[0]\n",
    "    blocks = tuple(map(int, line[1].split(\",\")))\n",
    "    total += count_arrangements(row, blocks)\n",
    "\n",
    "print(total)"
   ]
  },
  {
   "cell_type": "code",
   "execution_count": 33,
   "metadata": {},
   "outputs": [
    {
     "name": "stdout",
     "output_type": "stream",
     "text": [
      "525152\n"
     ]
    }
   ],
   "source": [
    "def unfold_row(row: str, blocks: tuple[int]) -> tuple[str, tuple[int]]:\n",
    "    row = \"?\".join([row] * 5)\n",
    "    blocks *= 5\n",
    "    return row, blocks\n",
    "\n",
    "total = 0\n",
    "for line in test_input.split(\"\\n\"):\n",
    "    line = line.split(\" \")\n",
    "    row = line[0]\n",
    "    blocks = tuple(map(int, line[1].split(\",\")))\n",
    "    row, blocks = unfold_row(row, blocks)\n",
    "    total += count_arrangements(row, blocks)\n",
    "\n",
    "print(total)"
   ]
  },
  {
   "cell_type": "code",
   "execution_count": 34,
   "metadata": {},
   "outputs": [
    {
     "name": "stdout",
     "output_type": "stream",
     "text": [
      "65607131946466\n"
     ]
    }
   ],
   "source": [
    "with open (\"data/day12.txt\", \"r\") as f:\n",
    "    data = f.read()\n",
    "\n",
    "total = 0\n",
    "for line in data.split(\"\\n\"):\n",
    "    line = line.split(\" \")\n",
    "    row = line[0]\n",
    "    blocks = tuple(map(int, line[1].split(\",\")))\n",
    "    row, blocks = unfold_row(row, blocks)\n",
    "    total += count_arrangements(row, blocks)\n",
    "\n",
    "print(total)"
   ]
  },
  {
   "cell_type": "code",
   "execution_count": null,
   "metadata": {},
   "outputs": [],
   "source": []
  }
 ],
 "metadata": {
  "kernelspec": {
   "display_name": ".venv",
   "language": "python",
   "name": "python3"
  },
  "language_info": {
   "codemirror_mode": {
    "name": "ipython",
    "version": 3
   },
   "file_extension": ".py",
   "mimetype": "text/x-python",
   "name": "python",
   "nbconvert_exporter": "python",
   "pygments_lexer": "ipython3",
   "version": "3.11.3"
  }
 },
 "nbformat": 4,
 "nbformat_minor": 2
}
