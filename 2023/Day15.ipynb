{
 "cells": [
  {
   "cell_type": "code",
   "execution_count": 63,
   "metadata": {},
   "outputs": [],
   "source": [
    "test_string = \"HASH\"\n",
    "test_result = 52"
   ]
  },
  {
   "cell_type": "code",
   "execution_count": 64,
   "metadata": {},
   "outputs": [
    {
     "name": "stdout",
     "output_type": "stream",
     "text": [
      "True\n"
     ]
    }
   ],
   "source": [
    "def aoc_hash_string(string) -> int:\n",
    "    hash = 0\n",
    "    for char in string:\n",
    "        hash = (hash + ord(char)) * 17 % 256\n",
    "    return hash\n",
    "\n",
    "\n",
    "print(aoc_hash_string(test_string) == test_result)"
   ]
  },
  {
   "cell_type": "code",
   "execution_count": 65,
   "metadata": {},
   "outputs": [
    {
     "name": "stdout",
     "output_type": "stream",
     "text": [
      "True\n"
     ]
    }
   ],
   "source": [
    "test_input = \"rn=1,cm-,qp=3,cm=2,qp-,pc=4,ot=9,ab=5,pc-,pc=6,ot=7\"\n",
    "test_result = sum([30, 253, 97, 47, 14, 180, 9, 197, 48, 214, 231])\n",
    "\n",
    "data = test_input.split(\",\")\n",
    "print(sum([aoc_hash_string(x) for x in data]) == test_result)"
   ]
  },
  {
   "cell_type": "code",
   "execution_count": 66,
   "metadata": {},
   "outputs": [
    {
     "name": "stdout",
     "output_type": "stream",
     "text": [
      "516657\n"
     ]
    }
   ],
   "source": [
    "# Part 1\n",
    "with open(\"data/day15.txt\") as f:\n",
    "    data = f.read().strip().split(\",\")\n",
    "\n",
    "print(sum([aoc_hash_string(x) for x in data]))"
   ]
  },
  {
   "cell_type": "code",
   "execution_count": 67,
   "metadata": {},
   "outputs": [
    {
     "name": "stdout",
     "output_type": "stream",
     "text": [
      "145\n"
     ]
    }
   ],
   "source": [
    "def fill_boxes(data: list[str]) -> dict[int, list[dict[str, int]]]:\n",
    "    boxes = {i: [] for i in range(256)}\n",
    "    for task in data:\n",
    "        if \"-\" in task:\n",
    "            label, lens = task.split(\"-\")\n",
    "            box = boxes.get(aoc_hash_string(label))\n",
    "            if any(label in d.keys() for d in box):\n",
    "                # remove the dict with the label\n",
    "                box.remove(next(d for d in box if label in d.keys()))\n",
    "\n",
    "        elif \"=\" in task:\n",
    "            label, lens = task.split(\"=\")\n",
    "            box = boxes.get(aoc_hash_string(label))\n",
    "            if not any(label in d.keys() for d in box):\n",
    "                box.append({label: int(lens)})\n",
    "            else:\n",
    "                # find the dict with the label and update the lens\n",
    "                next(d for d in box if label in d.keys())[label] = int(lens)\n",
    "\n",
    "    return boxes\n",
    "\n",
    "\n",
    "def calculate_focusing_power(box_number: int, box: list[dict[str, int]]) -> int:\n",
    "    total_focusing_power_per_box = 0\n",
    "    for i, lens in enumerate(box, 1):\n",
    "        focusing_power = box_number + 1\n",
    "        focusing_power *= i * lens.get(list(lens.keys())[0])\n",
    "        total_focusing_power_per_box += focusing_power\n",
    "    return total_focusing_power_per_box\n",
    "\n",
    "\n",
    "data = test_input.split(\",\")\n",
    "boxes = fill_boxes(data)\n",
    "\n",
    "total_power = 0\n",
    "for i in range(256):\n",
    "    box = boxes.get(i)\n",
    "    if len(box) > 0:\n",
    "        total_power += calculate_focusing_power(i, box)\n",
    "\n",
    "print(total_power)"
   ]
  },
  {
   "cell_type": "code",
   "execution_count": 68,
   "metadata": {},
   "outputs": [
    {
     "name": "stdout",
     "output_type": "stream",
     "text": [
      "210906\n"
     ]
    }
   ],
   "source": [
    "# Part 2\n",
    "with open(\"data/day15.txt\") as f:\n",
    "    data = f.read().strip().split(\",\")\n",
    "\n",
    "boxes = fill_boxes(data)\n",
    "\n",
    "total_power = 0\n",
    "for i in range(256):\n",
    "    box = boxes.get(i)\n",
    "    if len(box) > 0:\n",
    "        total_power += calculate_focusing_power(i, box)\n",
    "\n",
    "print(total_power)"
   ]
  }
 ],
 "metadata": {
  "kernelspec": {
   "display_name": ".venv",
   "language": "python",
   "name": "python3"
  },
  "language_info": {
   "codemirror_mode": {
    "name": "ipython",
    "version": 3
   },
   "file_extension": ".py",
   "mimetype": "text/x-python",
   "name": "python",
   "nbconvert_exporter": "python",
   "pygments_lexer": "ipython3",
   "version": "3.11.3"
  }
 },
 "nbformat": 4,
 "nbformat_minor": 2
}
